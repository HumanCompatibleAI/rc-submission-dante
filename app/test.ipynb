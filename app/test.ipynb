{
 "cells": [
  {
   "cell_type": "code",
   "execution_count": 1,
   "metadata": {},
   "outputs": [],
   "source": [
    "import os \n",
    "import glob\n",
    "import json"
   ]
  },
  {
   "cell_type": "code",
   "execution_count": 6,
   "metadata": {},
   "outputs": [],
   "source": [
    "payload = json.load(open(\"/N/u/baotruon/BigRed200/osome-csdl-ranking-challenge/data/extension_data/twitter_raw__2024-05-24T16:14:22.763Z.json\"))"
   ]
  },
  {
   "cell_type": "code",
   "execution_count": 7,
   "metadata": {},
   "outputs": [
    {
     "data": {
      "text/plain": [
       "[{'author_name_hash': '60b46b7370f80735a06b7aa8c4eb6bd588440816b086d5ef7355cf202a118305',\n",
       "  'created_at': '2023-12-06 17:02:11',\n",
       "  'enagements': {'downvote': 27, 'upvote': 34},\n",
       "  'id': 'de83fc78-d648-444e-b20d-853bf05e4f0e',\n",
       "  'platform': 'reddit',\n",
       "  'text': 'this is the worst thing I have ever seen!',\n",
       "  'title': 'this is the post title, available only on reddit',\n",
       "  'type': 'post'},\n",
       " {'author_name_hash': '60b46b7370f80735a06b7aa8c4eb6bd588440816b086d5ef7355cf202a118305',\n",
       "  'created_at': '2023-12-08 11:32:12',\n",
       "  'enagements': {'downvote': 2, 'upvote': 15},\n",
       "  'id': 's5ad13266-8abk4-5219-kre5-2811022l7e43dv',\n",
       "  'parent_id': '',\n",
       "  'platform': 'reddit',\n",
       "  'post_id': 'de83fc78-d648-444e-b20d-853bf05e4f0e',\n",
       "  'text': 'this is amazing!',\n",
       "  'type': 'comment'},\n",
       " {'author_name_hash': '60b46b7370f80735a06b7aa8c4eb6bd588440816b086d5ef7355cf202a118305',\n",
       "  'created_at': '2023-12-08 11:35:00',\n",
       "  'enagements': {'downvote': 5, 'upvote': 3},\n",
       "  'id': 'a4c08177-8db2-4507-acc1-1298220be98d',\n",
       "  'parent_id': 's5ad13266-8abk4-5219-kre5-2811022l7e43dv',\n",
       "  'platform': 'reddit',\n",
       "  'post_id': 'de83fc78-d648-444e-b20d-853bf05e4f0e',\n",
       "  'text': 'this thing is ok.',\n",
       "  'type': 'comment'}]"
      ]
     },
     "execution_count": 7,
     "metadata": {},
     "output_type": "execute_result"
    }
   ],
   "source": [
    "post_items = payload.get(\"items\")\n",
    "post_items"
   ]
  },
  {
   "cell_type": "code",
   "execution_count": null,
   "metadata": {},
   "outputs": [],
   "source": [
    "for fpath in glob.glob(\"/N/u/baotruon/BigRed200/osome-csdl-ranking-challenge/data/extension_data/*.json\"):\n",
    "    fname = os.path.basename(fpath)\n",
    "    payload = json.load(open(fpath))"
   ]
  }
 ],
 "metadata": {
  "kernelspec": {
   "display_name": "osomerank",
   "language": "python",
   "name": "python3"
  },
  "language_info": {
   "codemirror_mode": {
    "name": "ipython",
    "version": 3
   },
   "file_extension": ".py",
   "mimetype": "text/x-python",
   "name": "python",
   "nbconvert_exporter": "python",
   "pygments_lexer": "ipython3",
   "version": "3.8.18"
  }
 },
 "nbformat": 4,
 "nbformat_minor": 2
}
