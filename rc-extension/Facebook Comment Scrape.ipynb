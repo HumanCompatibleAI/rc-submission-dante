{
 "cells": [
  {
   "cell_type": "code",
   "execution_count": 1,
   "metadata": {},
   "outputs": [],
   "source": [
    "from selenium import webdriver\n",
    "from selenium.webdriver.common.keys import Keys\n",
    "from selenium.webdriver.support import expected_conditions as EC\n",
    "from selenium.webdriver.common.by import By\n",
    "from selenium.webdriver.support.wait import WebDriverWait\n",
    "import time\n",
    "import random\n",
    "import pandas as pd"
   ]
  },
  {
   "cell_type": "code",
   "execution_count": 2,
   "metadata": {},
   "outputs": [
    {
     "name": "stdout",
     "output_type": "stream",
     "text": [
      "Collecting webdriver-manager\n",
      "  Downloading webdriver_manager-4.0.1-py2.py3-none-any.whl.metadata (12 kB)\n",
      "Requirement already satisfied: requests in /Users/baott/mambaforge/envs/osomerank/lib/python3.9/site-packages (from webdriver-manager) (2.31.0)\n",
      "Collecting python-dotenv (from webdriver-manager)\n",
      "  Downloading python_dotenv-1.0.1-py3-none-any.whl.metadata (23 kB)\n",
      "Requirement already satisfied: packaging in /Users/baott/mambaforge/envs/osomerank/lib/python3.9/site-packages (from webdriver-manager) (23.1)\n",
      "Requirement already satisfied: charset-normalizer<4,>=2 in /Users/baott/mambaforge/envs/osomerank/lib/python3.9/site-packages (from requests->webdriver-manager) (3.3.2)\n",
      "Requirement already satisfied: idna<4,>=2.5 in /Users/baott/mambaforge/envs/osomerank/lib/python3.9/site-packages (from requests->webdriver-manager) (3.7)\n",
      "Requirement already satisfied: urllib3<3,>=1.21.1 in /Users/baott/mambaforge/envs/osomerank/lib/python3.9/site-packages (from requests->webdriver-manager) (2.2.1)\n",
      "Requirement already satisfied: certifi>=2017.4.17 in /Users/baott/mambaforge/envs/osomerank/lib/python3.9/site-packages (from requests->webdriver-manager) (2024.2.2)\n",
      "Downloading webdriver_manager-4.0.1-py2.py3-none-any.whl (27 kB)\n",
      "Downloading python_dotenv-1.0.1-py3-none-any.whl (19 kB)\n",
      "Installing collected packages: python-dotenv, webdriver-manager\n",
      "Successfully installed python-dotenv-1.0.1 webdriver-manager-4.0.1\n",
      "Note: you may need to restart the kernel to use updated packages.\n"
     ]
    }
   ],
   "source": [
    "pip install webdriver-manager"
   ]
  },
  {
   "cell_type": "code",
   "execution_count": 38,
   "metadata": {},
   "outputs": [],
   "source": [
    "# code to ignore browser notifications\n",
    "chrome_options = webdriver.ChromeOptions()\n",
    "prefs = {\"profile.default_content_setting_values.notifications\": 2}\n",
    "chrome_options.add_experimental_option(\"prefs\", prefs)\n",
    "from selenium.webdriver.support.wait import WebDriverWait"
   ]
  },
  {
   "cell_type": "code",
   "execution_count": 39,
   "metadata": {},
   "outputs": [],
   "source": [
    "from time import sleep\n",
    "from selenium import webdriver\n",
    "from webdriver_manager.chrome import ChromeDriverManager\n",
    "\n",
    "# driver = webdriver.Chrome(ChromeDriverManager().install())\n",
    "driver = webdriver.Chrome()\n",
    "driver.get(\"https://www.facebook.com/\")\n",
    "sleep(5)"
   ]
  },
  {
   "cell_type": "code",
   "execution_count": 40,
   "metadata": {},
   "outputs": [],
   "source": [
    "facebook_username = \"susi7396@gmail.com\"\n",
    "facebook_password = \"Minhu2204!\"\n",
    "email_input = driver.find_element(By.ID, \"email\")\n",
    "email_input.send_keys(facebook_username)\n",
    "\n",
    "# Find the password input field and enter the password\n",
    "password_input = driver.find_element(By.ID, \"pass\")\n",
    "password_input.send_keys(facebook_password)\n",
    "\n",
    "# Submit the login form\n",
    "password_input.send_keys(Keys.RETURN)\n",
    "\n",
    "# Optional: Wait for some time to see the result\n",
    "time.sleep(5)"
   ]
  },
  {
   "cell_type": "code",
   "execution_count": 41,
   "id": "e341fafc",
   "metadata": {},
   "outputs": [
    {
     "name": "stdout",
     "output_type": "stream",
     "text": [
      "No additional popups appeared or failed to close the popup.\n"
     ]
    }
   ],
   "source": [
    "def close_popup():\n",
    "    try:\n",
    "        # Wait for the popup close button to be clickable and then click it\n",
    "        popup_close_button = WebDriverWait(driver, 10).until(\n",
    "            EC.element_to_be_clickable((By.XPATH, '//div[@aria-label=\"Close\" or @role=\"button\" or @data-testid=\"close-button\" or contains(@aria-label, \"Close\")]'))\n",
    "        )\n",
    "        popup_close_button.click()\n",
    "        print(\"Popup closed.\")\n",
    "    except:\n",
    "        print(\"No additional popups appeared or failed to close the popup.\")\n",
    "\n",
    "# Call the function to close any popups\n",
    "close_popup()"
   ]
  },
  {
   "cell_type": "code",
   "execution_count": 42,
   "id": "b12ab3ee",
   "metadata": {},
   "outputs": [
    {
     "name": "stdout",
     "output_type": "stream",
     "text": [
      "No additional popups appeared or failed to close the popup.\n"
     ]
    }
   ],
   "source": [
    "# Close any popups that appear after the page load\n",
    "try:\n",
    "    # Wait for the popup close button to be clickable and then click it\n",
    "    popup_close_button = WebDriverWait(driver, 10).until(\n",
    "        EC.element_to_be_clickable((By.XPATH, '//div[@aria-label=\"Close\" or @role=\"button\" or @data-testid=\"close-button\"]'))\n",
    "    )\n",
    "    popup_close_button.click()\n",
    "    print(\"closed the popup\")\n",
    "except:\n",
    "    print(\"No additional popups appeared or failed to close the popup.\")"
   ]
  },
  {
   "cell_type": "code",
   "execution_count": null,
   "id": "e6541dfa",
   "metadata": {},
   "outputs": [
    {
     "name": "stdout",
     "output_type": "stream",
     "text": [
      "Notification permission popup did not appear.\n"
     ]
    }
   ],
   "source": [
    "try:\n",
    "    # Wait for the notification permission prompt and switch to it\n",
    "    WebDriverWait(driver, 10).until(EC.alert_is_present())\n",
    "    not_now_button = WebDriverWait(driver, 10).until(\n",
    "        EC.element_to_be_clickable(\n",
    "            (By.XPATH, '//div[contains(text(), \"Block\") or contains(text(), \"Allow\")]')\n",
    "        )\n",
    "    )\n",
    "    not_now_button.click()\n",
    "    # alert = driver.switch_to.alert\n",
    "    # # Dismiss the notification by clicking \"Block\"\n",
    "    # alert.dismiss()\n",
    "except:\n",
    "    print(\"Notification permission popup did not appear.\")"
   ]
  },
  {
   "cell_type": "code",
   "execution_count": null,
   "id": "fd3eb225",
   "metadata": {},
   "outputs": [
    {
     "name": "stdout",
     "output_type": "stream",
     "text": [
      "Notification popup did not appear.\n"
     ]
    }
   ],
   "source": [
    "# Handle notification popup if it appears\n",
    "# 2 options: Block/Allow\n",
    "try:\n",
    "    # Wait until the notification popup is present and then click 'Not Now'\n",
    "    not_now_button = WebDriverWait(driver, 10).until(\n",
    "        EC.element_to_be_clickable(\n",
    "            (By.XPATH, '//div[contains(text(), \"Block\") or contains(text(), \"Allow\")]')\n",
    "        )\n",
    "    )\n",
    "    not_now_button.click()\n",
    "except:\n",
    "    print(\"Notification popup did not appear.\")\n",
    "\n",
    "# Optional: Wait for some time to see the result\n",
    "time.sleep(5)"
   ]
  },
  {
   "cell_type": "code",
   "execution_count": null,
   "metadata": {},
   "outputs": [
    {
     "ename": "TimeoutException",
     "evalue": "Message: \nStacktrace:\n0   chromedriver                        0x0000000102f364c8 chromedriver + 4302024\n1   chromedriver                        0x0000000102f2ee10 chromedriver + 4271632\n2   chromedriver                        0x0000000102b6019c chromedriver + 278940\n3   chromedriver                        0x0000000102ba22c4 chromedriver + 549572\n4   chromedriver                        0x0000000102bdac5c chromedriver + 781404\n5   chromedriver                        0x0000000102b97004 chromedriver + 503812\n6   chromedriver                        0x0000000102b979ec chromedriver + 506348\n7   chromedriver                        0x0000000102efe510 chromedriver + 4072720\n8   chromedriver                        0x0000000102f02fbc chromedriver + 4091836\n9   chromedriver                        0x0000000102ee5754 chromedriver + 3970900\n10  chromedriver                        0x0000000102f038a4 chromedriver + 4094116\n11  chromedriver                        0x0000000102ed86d4 chromedriver + 3917524\n12  chromedriver                        0x0000000102f20b08 chromedriver + 4213512\n13  chromedriver                        0x0000000102f20c84 chromedriver + 4213892\n14  chromedriver                        0x0000000102f2ea08 chromedriver + 4270600\n15  libsystem_pthread.dylib             0x000000019272ef94 _pthread_start + 136\n16  libsystem_pthread.dylib             0x0000000192729d34 thread_start + 8\n",
     "output_type": "error",
     "traceback": [
      "\u001b[0;31m---------------------------------------------------------------------------\u001b[0m",
      "\u001b[0;31mTimeoutException\u001b[0m                          Traceback (most recent call last)",
      "Cell \u001b[0;32mIn[29], line 3\u001b[0m\n\u001b[1;32m      1\u001b[0m \u001b[38;5;66;03m#target the login button and click it\u001b[39;00m\n\u001b[1;32m      2\u001b[0m time\u001b[38;5;241m.\u001b[39msleep(\u001b[38;5;241m5\u001b[39m)\n\u001b[0;32m----> 3\u001b[0m button \u001b[38;5;241m=\u001b[39m \u001b[43mWebDriverWait\u001b[49m\u001b[43m(\u001b[49m\u001b[43mdriver\u001b[49m\u001b[43m,\u001b[49m\u001b[38;5;241;43m5\u001b[39;49m\u001b[43m)\u001b[49m\u001b[38;5;241;43m.\u001b[39;49m\u001b[43muntil\u001b[49m\u001b[43m(\u001b[49m\u001b[43mEC\u001b[49m\u001b[38;5;241;43m.\u001b[39;49m\u001b[43melement_to_be_clickable\u001b[49m\u001b[43m(\u001b[49m\u001b[43m(\u001b[49m\u001b[43mBy\u001b[49m\u001b[38;5;241;43m.\u001b[39;49m\u001b[43mCSS_SELECTOR\u001b[49m\u001b[43m,\u001b[49m\u001b[43m \u001b[49m\u001b[38;5;124;43m\"\u001b[39;49m\u001b[38;5;124;43mbutton[type=\u001b[39;49m\u001b[38;5;124;43m'\u001b[39;49m\u001b[38;5;124;43msubmit\u001b[39;49m\u001b[38;5;124;43m'\u001b[39;49m\u001b[38;5;124;43m]\u001b[39;49m\u001b[38;5;124;43m\"\u001b[39;49m\u001b[43m)\u001b[49m\u001b[43m)\u001b[49m\u001b[43m)\u001b[49m\u001b[38;5;241m.\u001b[39mclick()\n",
      "File \u001b[0;32m~/mambaforge/envs/osomerank/lib/python3.9/site-packages/selenium/webdriver/support/wait.py:105\u001b[0m, in \u001b[0;36mWebDriverWait.until\u001b[0;34m(self, method, message)\u001b[0m\n\u001b[1;32m    103\u001b[0m     \u001b[38;5;28;01mif\u001b[39;00m time\u001b[38;5;241m.\u001b[39mmonotonic() \u001b[38;5;241m>\u001b[39m end_time:\n\u001b[1;32m    104\u001b[0m         \u001b[38;5;28;01mbreak\u001b[39;00m\n\u001b[0;32m--> 105\u001b[0m \u001b[38;5;28;01mraise\u001b[39;00m TimeoutException(message, screen, stacktrace)\n",
      "\u001b[0;31mTimeoutException\u001b[0m: Message: \nStacktrace:\n0   chromedriver                        0x0000000102f364c8 chromedriver + 4302024\n1   chromedriver                        0x0000000102f2ee10 chromedriver + 4271632\n2   chromedriver                        0x0000000102b6019c chromedriver + 278940\n3   chromedriver                        0x0000000102ba22c4 chromedriver + 549572\n4   chromedriver                        0x0000000102bdac5c chromedriver + 781404\n5   chromedriver                        0x0000000102b97004 chromedriver + 503812\n6   chromedriver                        0x0000000102b979ec chromedriver + 506348\n7   chromedriver                        0x0000000102efe510 chromedriver + 4072720\n8   chromedriver                        0x0000000102f02fbc chromedriver + 4091836\n9   chromedriver                        0x0000000102ee5754 chromedriver + 3970900\n10  chromedriver                        0x0000000102f038a4 chromedriver + 4094116\n11  chromedriver                        0x0000000102ed86d4 chromedriver + 3917524\n12  chromedriver                        0x0000000102f20b08 chromedriver + 4213512\n13  chromedriver                        0x0000000102f20c84 chromedriver + 4213892\n14  chromedriver                        0x0000000102f2ea08 chromedriver + 4270600\n15  libsystem_pthread.dylib             0x000000019272ef94 _pthread_start + 136\n16  libsystem_pthread.dylib             0x0000000192729d34 thread_start + 8\n"
     ]
    }
   ],
   "source": [
    "# target the login button and click it\n",
    "time.sleep(5)\n",
    "button = (\n",
    "    WebDriverWait(driver, 5)\n",
    "    .until(EC.element_to_be_clickable((By.CSS_SELECTOR, \"button[type='submit']\")))\n",
    "    .click()\n",
    ")"
   ]
  },
  {
   "cell_type": "code",
   "execution_count": null,
   "metadata": {},
   "outputs": [],
   "source": [
    "# define a recursive function to check for an h3 tag\n",
    "def has_h3_tag(element):\n",
    "    child_elements = element.find_elements(By.XPATH, \"*\")\n",
    "    for child in child_elements:\n",
    "        if child.tag_name == \"h3\":\n",
    "            return True\n",
    "        elif child.find_elements(By.XPATH, \"*\"):\n",
    "            if has_h3_tag(child):\n",
    "                return True\n",
    "    return False"
   ]
  },
  {
   "cell_type": "code",
   "execution_count": null,
   "metadata": {},
   "outputs": [],
   "source": [
    "def parseComments():\n",
    "    comment_section = driver.find_element(By.ID, \"m_story_permalink_view\")\n",
    "    comment_section = comment_section.find_elements(By.XPATH, \"*\")[1].find_elements(\n",
    "        By.XPATH, \"*\"\n",
    "    )[0]\n",
    "    try:\n",
    "        comment_section = comment_section.find_elements(By.XPATH, \"*\")[3]\n",
    "        if comment_section.find_elements(By.XPATH, \"*\")[0].tag_name == \"form\":\n",
    "            comment_section = comment_section.find_element(\n",
    "                By.XPATH, \"following-sibling::*\"\n",
    "            )\n",
    "    except:\n",
    "        print(\"All comments scraped.\")\n",
    "        return None\n",
    "    potential_comments = comment_section.find_elements(By.XPATH, \"*\")\n",
    "\n",
    "    comments = []\n",
    "    for pc in potential_comments:\n",
    "        if has_h3_tag(pc) == True:\n",
    "            comments.append(pc)\n",
    "\n",
    "    for name in comments:\n",
    "        name = name.find_element(By.CSS_SELECTOR, \"h3\")\n",
    "        Name.append(name.text)\n",
    "        try:\n",
    "            comment = name.find_element(By.XPATH, \"following-sibling::*\")\n",
    "        except:\n",
    "            Name.pop()\n",
    "            continue\n",
    "        Comment.append(comment.text)\n",
    "    return comment_section.find_elements(By.XPATH, \"*\")[-1]"
   ]
  },
  {
   "cell_type": "code",
   "execution_count": null,
   "metadata": {},
   "outputs": [
    {
     "ename": "NoSuchWindowException",
     "evalue": "Message: no such window: target window already closed\nfrom unknown error: web view not found\n  (Session info: chrome=125.0.6422.141)\nStacktrace:\n0   chromedriver                        0x0000000100bba4c8 chromedriver + 4302024\n1   chromedriver                        0x0000000100bb2e10 chromedriver + 4271632\n2   chromedriver                        0x00000001007e419c chromedriver + 278940\n3   chromedriver                        0x00000001007bf474 chromedriver + 128116\n4   chromedriver                        0x000000010084b394 chromedriver + 701332\n5   chromedriver                        0x000000010085e4e4 chromedriver + 779492\n6   chromedriver                        0x000000010081b004 chromedriver + 503812\n7   chromedriver                        0x000000010081b9ec chromedriver + 506348\n8   chromedriver                        0x0000000100b82510 chromedriver + 4072720\n9   chromedriver                        0x0000000100b86fbc chromedriver + 4091836\n10  chromedriver                        0x0000000100b69754 chromedriver + 3970900\n11  chromedriver                        0x0000000100b878a4 chromedriver + 4094116\n12  chromedriver                        0x0000000100b5c6d4 chromedriver + 3917524\n13  chromedriver                        0x0000000100ba4b08 chromedriver + 4213512\n14  chromedriver                        0x0000000100ba4c84 chromedriver + 4213892\n15  chromedriver                        0x0000000100bb2a08 chromedriver + 4270600\n16  libsystem_pthread.dylib             0x000000019272ef94 _pthread_start + 136\n17  libsystem_pthread.dylib             0x0000000192729d34 thread_start + 8\n",
     "output_type": "error",
     "traceback": [
      "\u001b[0;31m---------------------------------------------------------------------------\u001b[0m",
      "\u001b[0;31mNoSuchWindowException\u001b[0m                     Traceback (most recent call last)",
      "Cell \u001b[0;32mIn[12], line 10\u001b[0m\n\u001b[1;32m      7\u001b[0m sleep(\u001b[38;5;241m5\u001b[39m)\n\u001b[1;32m      9\u001b[0m \u001b[38;5;28;01mwhile\u001b[39;00m \u001b[38;5;28;01mTrue\u001b[39;00m:    \n\u001b[0;32m---> 10\u001b[0m     next_page \u001b[38;5;241m=\u001b[39m \u001b[43mparseComments\u001b[49m\u001b[43m(\u001b[49m\u001b[43m)\u001b[49m\n\u001b[1;32m     11\u001b[0m     \u001b[38;5;28mprint\u001b[39m(\u001b[38;5;28mlen\u001b[39m(Name))\n\u001b[1;32m     12\u001b[0m     \u001b[38;5;28;01mif\u001b[39;00m next_page \u001b[38;5;241m==\u001b[39m \u001b[38;5;28;01mNone\u001b[39;00m:\n",
      "Cell \u001b[0;32mIn[11], line 2\u001b[0m, in \u001b[0;36mparseComments\u001b[0;34m()\u001b[0m\n\u001b[1;32m      1\u001b[0m \u001b[38;5;28;01mdef\u001b[39;00m \u001b[38;5;21mparseComments\u001b[39m():\n\u001b[0;32m----> 2\u001b[0m     comment_section \u001b[38;5;241m=\u001b[39m \u001b[43mdriver\u001b[49m\u001b[38;5;241;43m.\u001b[39;49m\u001b[43mfind_element\u001b[49m\u001b[43m(\u001b[49m\u001b[43mBy\u001b[49m\u001b[38;5;241;43m.\u001b[39;49m\u001b[43mID\u001b[49m\u001b[43m,\u001b[49m\u001b[43m \u001b[49m\u001b[38;5;124;43m\"\u001b[39;49m\u001b[38;5;124;43mm_story_permalink_view\u001b[39;49m\u001b[38;5;124;43m\"\u001b[39;49m\u001b[43m)\u001b[49m\n\u001b[1;32m      3\u001b[0m     comment_section \u001b[38;5;241m=\u001b[39m comment_section\u001b[38;5;241m.\u001b[39mfind_elements(By\u001b[38;5;241m.\u001b[39mXPATH, \u001b[38;5;124m\"\u001b[39m\u001b[38;5;124m*\u001b[39m\u001b[38;5;124m\"\u001b[39m)[\u001b[38;5;241m1\u001b[39m]\u001b[38;5;241m.\u001b[39mfind_elements(By\u001b[38;5;241m.\u001b[39mXPATH, \u001b[38;5;124m\"\u001b[39m\u001b[38;5;124m*\u001b[39m\u001b[38;5;124m\"\u001b[39m)[\u001b[38;5;241m0\u001b[39m]\n\u001b[1;32m      4\u001b[0m     \u001b[38;5;28;01mtry\u001b[39;00m:\n",
      "File \u001b[0;32m~/mambaforge/envs/osomerank/lib/python3.9/site-packages/selenium/webdriver/remote/webdriver.py:741\u001b[0m, in \u001b[0;36mWebDriver.find_element\u001b[0;34m(self, by, value)\u001b[0m\n\u001b[1;32m    738\u001b[0m     by \u001b[38;5;241m=\u001b[39m By\u001b[38;5;241m.\u001b[39mCSS_SELECTOR\n\u001b[1;32m    739\u001b[0m     value \u001b[38;5;241m=\u001b[39m \u001b[38;5;124mf\u001b[39m\u001b[38;5;124m'\u001b[39m\u001b[38;5;124m[name=\u001b[39m\u001b[38;5;124m\"\u001b[39m\u001b[38;5;132;01m{\u001b[39;00mvalue\u001b[38;5;132;01m}\u001b[39;00m\u001b[38;5;124m\"\u001b[39m\u001b[38;5;124m]\u001b[39m\u001b[38;5;124m'\u001b[39m\n\u001b[0;32m--> 741\u001b[0m \u001b[38;5;28;01mreturn\u001b[39;00m \u001b[38;5;28;43mself\u001b[39;49m\u001b[38;5;241;43m.\u001b[39;49m\u001b[43mexecute\u001b[49m\u001b[43m(\u001b[49m\u001b[43mCommand\u001b[49m\u001b[38;5;241;43m.\u001b[39;49m\u001b[43mFIND_ELEMENT\u001b[49m\u001b[43m,\u001b[49m\u001b[43m \u001b[49m\u001b[43m{\u001b[49m\u001b[38;5;124;43m\"\u001b[39;49m\u001b[38;5;124;43musing\u001b[39;49m\u001b[38;5;124;43m\"\u001b[39;49m\u001b[43m:\u001b[49m\u001b[43m \u001b[49m\u001b[43mby\u001b[49m\u001b[43m,\u001b[49m\u001b[43m \u001b[49m\u001b[38;5;124;43m\"\u001b[39;49m\u001b[38;5;124;43mvalue\u001b[39;49m\u001b[38;5;124;43m\"\u001b[39;49m\u001b[43m:\u001b[49m\u001b[43m \u001b[49m\u001b[43mvalue\u001b[49m\u001b[43m}\u001b[49m\u001b[43m)\u001b[49m[\u001b[38;5;124m\"\u001b[39m\u001b[38;5;124mvalue\u001b[39m\u001b[38;5;124m\"\u001b[39m]\n",
      "File \u001b[0;32m~/mambaforge/envs/osomerank/lib/python3.9/site-packages/selenium/webdriver/remote/webdriver.py:347\u001b[0m, in \u001b[0;36mWebDriver.execute\u001b[0;34m(self, driver_command, params)\u001b[0m\n\u001b[1;32m    345\u001b[0m response \u001b[38;5;241m=\u001b[39m \u001b[38;5;28mself\u001b[39m\u001b[38;5;241m.\u001b[39mcommand_executor\u001b[38;5;241m.\u001b[39mexecute(driver_command, params)\n\u001b[1;32m    346\u001b[0m \u001b[38;5;28;01mif\u001b[39;00m response:\n\u001b[0;32m--> 347\u001b[0m     \u001b[38;5;28;43mself\u001b[39;49m\u001b[38;5;241;43m.\u001b[39;49m\u001b[43merror_handler\u001b[49m\u001b[38;5;241;43m.\u001b[39;49m\u001b[43mcheck_response\u001b[49m\u001b[43m(\u001b[49m\u001b[43mresponse\u001b[49m\u001b[43m)\u001b[49m\n\u001b[1;32m    348\u001b[0m     response[\u001b[38;5;124m\"\u001b[39m\u001b[38;5;124mvalue\u001b[39m\u001b[38;5;124m\"\u001b[39m] \u001b[38;5;241m=\u001b[39m \u001b[38;5;28mself\u001b[39m\u001b[38;5;241m.\u001b[39m_unwrap_value(response\u001b[38;5;241m.\u001b[39mget(\u001b[38;5;124m\"\u001b[39m\u001b[38;5;124mvalue\u001b[39m\u001b[38;5;124m\"\u001b[39m, \u001b[38;5;28;01mNone\u001b[39;00m))\n\u001b[1;32m    349\u001b[0m     \u001b[38;5;28;01mreturn\u001b[39;00m response\n",
      "File \u001b[0;32m~/mambaforge/envs/osomerank/lib/python3.9/site-packages/selenium/webdriver/remote/errorhandler.py:229\u001b[0m, in \u001b[0;36mErrorHandler.check_response\u001b[0;34m(self, response)\u001b[0m\n\u001b[1;32m    227\u001b[0m         alert_text \u001b[38;5;241m=\u001b[39m value[\u001b[38;5;124m\"\u001b[39m\u001b[38;5;124malert\u001b[39m\u001b[38;5;124m\"\u001b[39m]\u001b[38;5;241m.\u001b[39mget(\u001b[38;5;124m\"\u001b[39m\u001b[38;5;124mtext\u001b[39m\u001b[38;5;124m\"\u001b[39m)\n\u001b[1;32m    228\u001b[0m     \u001b[38;5;28;01mraise\u001b[39;00m exception_class(message, screen, stacktrace, alert_text)  \u001b[38;5;66;03m# type: ignore[call-arg]  # mypy is not smart enough here\u001b[39;00m\n\u001b[0;32m--> 229\u001b[0m \u001b[38;5;28;01mraise\u001b[39;00m exception_class(message, screen, stacktrace)\n",
      "\u001b[0;31mNoSuchWindowException\u001b[0m: Message: no such window: target window already closed\nfrom unknown error: web view not found\n  (Session info: chrome=125.0.6422.141)\nStacktrace:\n0   chromedriver                        0x0000000100bba4c8 chromedriver + 4302024\n1   chromedriver                        0x0000000100bb2e10 chromedriver + 4271632\n2   chromedriver                        0x00000001007e419c chromedriver + 278940\n3   chromedriver                        0x00000001007bf474 chromedriver + 128116\n4   chromedriver                        0x000000010084b394 chromedriver + 701332\n5   chromedriver                        0x000000010085e4e4 chromedriver + 779492\n6   chromedriver                        0x000000010081b004 chromedriver + 503812\n7   chromedriver                        0x000000010081b9ec chromedriver + 506348\n8   chromedriver                        0x0000000100b82510 chromedriver + 4072720\n9   chromedriver                        0x0000000100b86fbc chromedriver + 4091836\n10  chromedriver                        0x0000000100b69754 chromedriver + 3970900\n11  chromedriver                        0x0000000100b878a4 chromedriver + 4094116\n12  chromedriver                        0x0000000100b5c6d4 chromedriver + 3917524\n13  chromedriver                        0x0000000100ba4b08 chromedriver + 4213512\n14  chromedriver                        0x0000000100ba4c84 chromedriver + 4213892\n15  chromedriver                        0x0000000100bb2a08 chromedriver + 4270600\n16  libsystem_pthread.dylib             0x000000019272ef94 _pthread_start + 136\n17  libsystem_pthread.dylib             0x0000000192729d34 thread_start + 8\n"
     ]
    }
   ],
   "source": [
    "# Program to scrap comments from each page\n",
    "Name = []\n",
    "Comment = []\n",
    "\n",
    "url = \"https://mbasic.facebook.com/story.php?story_fbid=pfbid0HmxE6cXTNmxb5vCrxDfi6hwB9v1du2uYsSqtJiXyKsWyjhf7VawwVK2h6sQsf9Bol&id=100077835098866&eav=Afb6AC32nt1Z1pLmf9H6XNAaYezbvQMsu3QWMjcdwHNajDmRIbeRaiw0nFtgK4a3Omg&_ft_=encrypted_tracking_data.0AY_UokcpMAhCAser8JtGY1gvO7UxC69pcOHjvzYgz2wPkEidz4pbWy310aW6O2tXZ54SPX6niCQYK3kwPFjfMf544R0jZ83BvDtt3YphZrkq3W9QE_MRDfza_SdofKSQQNQffIr4Vq7d7HWhkhQBIQ_nEqda9ThwVolu3wEQMocu-6JtPeli-mfqZuPar7W1rtY2B44_cEv5IpJfogIi-rBmeok4LicqM9LOwxzG6cQ0viu5nVr2eU2-8XEmae_-B7TSk-gD5qaWQVgpZxEG72o7Y-hNlyB_RhsH9rss9Mpahx3pw-E2KF-BUT2aK_8_TgwWqh2YkK-pg2BQ7lv1xSKPiWStjmynq664Q7R9M72O3liahrndDXIGYbZZIZ0GJS-jTeF_2eBdZABE8Y3m4sV2P9UombxA4xgxgVvQSdfU--17yfWvz2Ln4gfIU19_Zb1gaddQP-rbpXcBZJ-qt2Ux6xUnw_uQBPgxfnBKI-CObvofJRO1XL3ZEhgeXyNMkVuA-K2lsJ7AHLlYzo5TlfuBtaaLqD6IZ5v_0v2US2PFUqB5cRqyPF0FqtN7_wU3jIWVQl943WLDSLeiEqlo0hriVx_XlvsSUqz1hKhp1M24RC0oZPbXKRCRi234Gu5TKpZJKG-ZCjEeCnL_BfBHSsk1oggAYO-UH7gSNiUnzlL0KvyH9mkArBQ0q898Ga_531-DRcXnQZsqUfYj6kXlAPniCH1vrpUF4Ev_howXMDZhPRAhavAnHiILQ6Y7S9EB9t7ByGOEJ3BUbrFfI3GV_rdPWka6-_G2-bukrQKia7hIUOnZNPMJec5eIkAXVc33VVECI4ncECpVocG-3N32abv8yBTjhWoQ9RLOUz7W7l_mXRcmpY5nXdTy8hdZqw25M-MpZyx1le0m2ztANV2pvi6Ujn691Rj630dQG85VQw3O28szGSgw95FfVdseQi1JqBDbpFQe3UHp0dPmKC-nAhteoW1pA4f-Vx2H1ThifzQSpb--hId6J1_z17jfQ7kez61P2uuf9wxEBql_bA-JG65S0kXPlGFftdPurajDXw2x47qBFZniNn_U56wTzCUyDxFrOapgEyFx6YjPQxUFUEQdtXldLGd-dbgLEs70qkvGlzEPch0WNwbpnM6DG81ul6Dq5ah3e_v8RgO8FEjTGmQcrZBtEH3gunfZYsr7n05bVh55NH6FMTEjya9TrOm7u2l-rzL4LwHn43Q-QvieFXRkqYA1HelqVY1hs2JuKXKxMhtusBjxIdzNofXXCkbqhlM7_ZDjbnup8jv3mQCnWNftGwMvpLwQGxSvUHTZXHluykuTzSR_rZpjogwS9Kupd-X4ZzvgVCR20QQrL9DzSZqRl1w-U3rOlf3HvYmjO0KlNXKGREu0NjFwFAWOvUmTogSkyeTsqIQkXgjjgm5oPUiEkbC6mV8AgSfA2T7Hz-YUu_dFPPilU0VkDvgSZy4&__tn__=%2AW-R&paipv=0\"\n",
    "driver.get(url)\n",
    "sleep(5)\n",
    "\n",
    "while True:\n",
    "    next_page = parseComments()\n",
    "    print(len(Name))\n",
    "    if next_page == None:\n",
    "        break\n",
    "    sleep(random.uniform(15, 30))\n",
    "    url = next_page.find_elements(By.XPATH, \"*\")[0].get_attribute(\"href\")\n",
    "    print(url)\n",
    "    driver.get(url)"
   ]
  },
  {
   "cell_type": "code",
   "execution_count": null,
   "metadata": {},
   "outputs": [],
   "source": [
    "print(len(Name), len(Comment))"
   ]
  },
  {
   "cell_type": "code",
   "execution_count": null,
   "metadata": {},
   "outputs": [],
   "source": [
    "pd.set_option(\"display.max_colwidth\", None)\n",
    "# create a dataframe\n",
    "df = pd.DataFrame({\"Name\": Name, \"Comment\": Comment})"
   ]
  },
  {
   "cell_type": "code",
   "execution_count": null,
   "metadata": {},
   "outputs": [],
   "source": [
    "df.to_csv(\"data.csv\", index=False)"
   ]
  },
  {
   "cell_type": "code",
   "execution_count": null,
   "metadata": {},
   "outputs": [],
   "source": []
  }
 ],
 "metadata": {
  "kernelspec": {
   "display_name": "Python 3",
   "language": "python",
   "name": "python3"
  },
  "language_info": {
   "codemirror_mode": {
    "name": "ipython",
    "version": 3
   },
   "file_extension": ".py",
   "mimetype": "text/x-python",
   "name": "python",
   "nbconvert_exporter": "python",
   "pygments_lexer": "ipython3",
   "version": "3.9.19"
  }
 },
 "nbformat": 4,
 "nbformat_minor": 5
}
