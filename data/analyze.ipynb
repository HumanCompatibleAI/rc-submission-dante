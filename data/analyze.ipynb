{
 "cells": [
  {
   "cell_type": "code",
   "execution_count": 1,
   "metadata": {},
   "outputs": [],
   "source": [
    "import glob\n",
    "import json\n",
    "import os\n",
    "\n",
    "non_political = []\n",
    "for fpath in glob.glob(\n",
    "    \"/N/u/baotruon/BigRed200/osome-csdl-ranking-challenge/data/extension_data/*_06:15*.json\"\n",
    "):\n",
    "    payload = json.load(open(fpath))\n",
    "    data = payload[\"ranked_posts\"]\n",
    "    hars = [content.get(\"har_score\", None) for content in data]\n",
    "    non_political.extend(hars)\n",
    "\n",
    "political = []\n",
    "for fpath in glob.glob(\n",
    "    \"/N/u/baotruon/BigRed200/osome-csdl-ranking-challenge/data/extension_data/*_11:12*.json\"\n",
    "):\n",
    "    payload = json.load(open(fpath))\n",
    "    data = payload[\"ranked_posts\"]\n",
    "    hars = [content.get(\"har_score\", None) for content in data]\n",
    "    political.extend(hars)"
   ]
  },
  {
   "cell_type": "code",
   "execution_count": 3,
   "metadata": {},
   "outputs": [
    {
     "data": {
      "text/html": [
       "<div>\n",
       "<style scoped>\n",
       "    .dataframe tbody tr th:only-of-type {\n",
       "        vertical-align: middle;\n",
       "    }\n",
       "\n",
       "    .dataframe tbody tr th {\n",
       "        vertical-align: top;\n",
       "    }\n",
       "\n",
       "    .dataframe thead th {\n",
       "        text-align: right;\n",
       "    }\n",
       "</style>\n",
       "<table border=\"1\" class=\"dataframe\">\n",
       "  <thead>\n",
       "    <tr style=\"text-align: right;\">\n",
       "      <th></th>\n",
       "      <th>har_score</th>\n",
       "      <th>ad_score</th>\n",
       "    </tr>\n",
       "  </thead>\n",
       "  <tbody>\n",
       "    <tr>\n",
       "      <th>har_score</th>\n",
       "      <td>1.0</td>\n",
       "      <td>NaN</td>\n",
       "    </tr>\n",
       "    <tr>\n",
       "      <th>ad_score</th>\n",
       "      <td>NaN</td>\n",
       "      <td>NaN</td>\n",
       "    </tr>\n",
       "  </tbody>\n",
       "</table>\n",
       "</div>"
      ],
      "text/plain": [
       "           har_score  ad_score\n",
       "har_score        1.0       NaN\n",
       "ad_score         NaN       NaN"
      ]
     },
     "execution_count": 3,
     "metadata": {},
     "output_type": "execute_result"
    }
   ],
   "source": [
    "import pandas as pd\n",
    "\n",
    "nonpolitical = pd.DataFrame(\n",
    "    {\"har_score\": non_political_hars, \"ad_score\": non_political_ads}\n",
    ")\n",
    "nonpolitical.corr()"
   ]
  },
  {
   "cell_type": "code",
   "execution_count": 4,
   "metadata": {},
   "outputs": [
    {
     "data": {
      "text/html": [
       "<div>\n",
       "<style scoped>\n",
       "    .dataframe tbody tr th:only-of-type {\n",
       "        vertical-align: middle;\n",
       "    }\n",
       "\n",
       "    .dataframe tbody tr th {\n",
       "        vertical-align: top;\n",
       "    }\n",
       "\n",
       "    .dataframe thead th {\n",
       "        text-align: right;\n",
       "    }\n",
       "</style>\n",
       "<table border=\"1\" class=\"dataframe\">\n",
       "  <thead>\n",
       "    <tr style=\"text-align: right;\">\n",
       "      <th></th>\n",
       "      <th>har_score</th>\n",
       "      <th>ad_score</th>\n",
       "    </tr>\n",
       "  </thead>\n",
       "  <tbody>\n",
       "    <tr>\n",
       "      <th>0</th>\n",
       "      <td>0.512383</td>\n",
       "      <td>None</td>\n",
       "    </tr>\n",
       "    <tr>\n",
       "      <th>1</th>\n",
       "      <td>0.513514</td>\n",
       "      <td>None</td>\n",
       "    </tr>\n",
       "    <tr>\n",
       "      <th>2</th>\n",
       "      <td>0.505017</td>\n",
       "      <td>None</td>\n",
       "    </tr>\n",
       "    <tr>\n",
       "      <th>3</th>\n",
       "      <td>0.504932</td>\n",
       "      <td>None</td>\n",
       "    </tr>\n",
       "    <tr>\n",
       "      <th>4</th>\n",
       "      <td>0.508147</td>\n",
       "      <td>None</td>\n",
       "    </tr>\n",
       "  </tbody>\n",
       "</table>\n",
       "</div>"
      ],
      "text/plain": [
       "   har_score ad_score\n",
       "0   0.512383     None\n",
       "1   0.513514     None\n",
       "2   0.505017     None\n",
       "3   0.504932     None\n",
       "4   0.508147     None"
      ]
     },
     "execution_count": 4,
     "metadata": {},
     "output_type": "execute_result"
    }
   ],
   "source": [
    "nonpolitical.head()"
   ]
  },
  {
   "cell_type": "code",
   "execution_count": 2,
   "metadata": {},
   "outputs": [
    {
     "data": {
      "text/plain": [
       "[0.512382984161377,\n",
       " 0.5135138630867004,\n",
       " 0.5050174593925476,\n",
       " 0.5049317479133606,\n",
       " 0.5081468224525452,\n",
       " 0.5132246017456055,\n",
       " 0.512618362903595,\n",
       " 0.5173547863960266,\n",
       " 0.5116251111030579,\n",
       " 0.5256134867668152,\n",
       " 0.5782540440559387,\n",
       " 0.5196205377578735,\n",
       " 0.5067645311355591,\n",
       " 0.5183945298194885,\n",
       " 0.5401514172554016,\n",
       " 0.5188776254653931,\n",
       " 0.5211469531059265,\n",
       " 0.5105518102645874,\n",
       " 0.5387380123138428,\n",
       " 0.5127533078193665,\n",
       " 0.5411878228187561,\n",
       " 0.5238418579101562,\n",
       " 0.5333340167999268,\n",
       " 0.5081603527069092,\n",
       " 0.5055489540100098,\n",
       " 0.5414952635765076,\n",
       " 0.537895143032074,\n",
       " 0.5155699253082275,\n",
       " 0.5211195349693298,\n",
       " 0.5333086848258972,\n",
       " 0.5120565295219421,\n",
       " 0.5498468279838562,\n",
       " 0.5317756533622742,\n",
       " 0.5086360573768616,\n",
       " 0.5169985890388489,\n",
       " 0.5067092180252075,\n",
       " 0.5043728351593018,\n",
       " 0.5050174593925476,\n",
       " 0.5272652506828308,\n",
       " 0.5076327323913574,\n",
       " 0.5132202506065369,\n",
       " 0.5246410369873047,\n",
       " 0.5158227682113647,\n",
       " 0.5277915596961975,\n",
       " 0.5178588032722473,\n",
       " 0.530307412147522,\n",
       " 0.5080662369728088,\n",
       " 0.5053151845932007,\n",
       " 0.5057154893875122,\n",
       " 0.5329362154006958,\n",
       " 0.5086728930473328,\n",
       " 0.5163377523422241,\n",
       " 0.5099605321884155,\n",
       " 0.5162947177886963,\n",
       " 0.5172933340072632,\n",
       " 0.5157889127731323,\n",
       " 0.5225876569747925,\n",
       " 0.5237604379653931,\n",
       " 0.5325127243995667,\n",
       " 0.5073351860046387,\n",
       " 0.5255441069602966,\n",
       " 0.5265263319015503,\n",
       " 0.5518900752067566,\n",
       " 0.5329676866531372,\n",
       " 0.5472575426101685,\n",
       " 0.5412840247154236,\n",
       " 0.5545760989189148,\n",
       " 0.5577467679977417,\n",
       " 0.518473207950592,\n",
       " 0.5227348208427429,\n",
       " 0.5056641101837158,\n",
       " 0.5127103328704834,\n",
       " 0.5293830037117004,\n",
       " 0.5094163417816162,\n",
       " 0.5248869061470032,\n",
       " 0.5050174593925476,\n",
       " 0.5081655979156494,\n",
       " 0.5289672613143921,\n",
       " 0.5164252519607544,\n",
       " 0.5245300531387329,\n",
       " 0.5152930617332458,\n",
       " 0.5136796832084656,\n",
       " 0.5090594291687012,\n",
       " 0.5173695683479309,\n",
       " 0.5172958970069885,\n",
       " 0.5150951743125916,\n",
       " 0.5505367517471313,\n",
       " 0.5329890251159668,\n",
       " 0.5183510184288025,\n",
       " 0.529192328453064,\n",
       " 0.5333340167999268,\n",
       " 0.5152618288993835,\n",
       " 0.5207222700119019,\n",
       " 0.5593386888504028,\n",
       " 0.526106595993042,\n",
       " 0.5219473242759705,\n",
       " 0.5287917852401733,\n",
       " 0.5664028525352478,\n",
       " 0.5095220804214478,\n",
       " 0.5190708637237549,\n",
       " 0.5050174593925476,\n",
       " 0.5209883451461792,\n",
       " 0.5157318115234375,\n",
       " 0.5580459237098694,\n",
       " 0.5094355344772339,\n",
       " 0.5093522667884827,\n",
       " 0.5151287913322449,\n",
       " 0.5154411196708679,\n",
       " 0.5184116959571838,\n",
       " 0.5052935481071472,\n",
       " 0.5067484378814697,\n",
       " 0.5118905305862427,\n",
       " 0.5118099451065063,\n",
       " 0.5228815078735352,\n",
       " 0.5208267569541931,\n",
       " 0.5138228535652161,\n",
       " 0.5291168689727783,\n",
       " 0.5136922001838684,\n",
       " 0.5212666988372803,\n",
       " 0.508990466594696,\n",
       " 0.51582932472229,\n",
       " 0.5145823359489441,\n",
       " 0.5273496508598328,\n",
       " 0.5282042622566223,\n",
       " 0.5399054288864136,\n",
       " 0.5119292736053467,\n",
       " 0.5196186900138855,\n",
       " 0.5280206203460693]"
      ]
     },
     "execution_count": 2,
     "metadata": {},
     "output_type": "execute_result"
    }
   ],
   "source": [
    "non_political"
   ]
  },
  {
   "cell_type": "code",
   "execution_count": 6,
   "metadata": {},
   "outputs": [
    {
     "data": {
      "text/plain": [
       "128"
      ]
     },
     "execution_count": 6,
     "metadata": {},
     "output_type": "execute_result"
    }
   ],
   "source": [
    "len(non_political)"
   ]
  },
  {
   "cell_type": "code",
   "execution_count": 5,
   "metadata": {},
   "outputs": [
    {
     "data": {
      "text/plain": [
       "<matplotlib.legend.Legend at 0x7f8118c812b0>"
      ]
     },
     "execution_count": 5,
     "metadata": {},
     "output_type": "execute_result"
    },
    {
     "data": {
      "image/png": "[encoded data removed]",
      "text/plain": [
       "<Figure size 640x480 with 1 Axes>"
      ]
     },
     "metadata": {},
     "output_type": "display_data"
    }
   ],
   "source": [
    "import matplotlib.pyplot as plt\n",
    "\n",
    "plt.hist(non_political, bins=\"rice\", alpha=0.5, label=\"non-political\", density=True)\n",
    "plt.hist(political, bins=\"rice\", alpha=0.5, label=\"political\", density=True)\n",
    "plt.xlabel(\"HAR score\")\n",
    "plt.ylabel(\"Density\")\n",
    "plt.legend()"
   ]
  },
  {
   "cell_type": "code",
   "execution_count": 5,
   "metadata": {},
   "outputs": [],
   "source": [
    "from bisect import bisect\n",
    "BOUNDARIES = [0.557, 0.572, 0.581, 0.6]\n",
    "har_interval = bisect(BOUNDARIES, 0.66)"
   ]
  },
  {
   "cell_type": "code",
   "execution_count": 6,
   "metadata": {},
   "outputs": [
    {
     "data": {
      "text/plain": [
       "4"
      ]
     },
     "execution_count": 6,
     "metadata": {},
     "output_type": "execute_result"
    }
   ],
   "source": [
    "har_interval"
   ]
  },
  {
   "cell_type": "code",
   "execution_count": null,
   "metadata": {},
   "outputs": [],
   "source": []
  }
 ],
 "metadata": {
  "kernelspec": {
   "display_name": "carisma",
   "language": "python",
   "name": "python3"
  },
  "language_info": {
   "codemirror_mode": {
    "name": "ipython",
    "version": 3
   },
   "file_extension": ".py",
   "mimetype": "text/x-python",
   "name": "python",
   "nbconvert_exporter": "python",
   "pygments_lexer": "ipython3",
   "version": "3.8.18"
  }
 },
 "nbformat": 4,
 "nbformat_minor": 2
}
